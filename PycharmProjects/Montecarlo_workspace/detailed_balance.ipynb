{
 "cells": [
  {
   "cell_type": "code",
   "execution_count": 2,
   "id": "initial_id",
   "metadata": {
    "collapsed": true,
    "ExecuteTime": {
     "end_time": "2025-01-15T10:36:32.256955400Z",
     "start_time": "2025-01-15T10:36:31.183698500Z"
    }
   },
   "outputs": [],
   "source": [
    "import numpy as np\n",
    "import matplotlib.pyplot as plt\n"
   ]
  },
  {
   "cell_type": "code",
   "execution_count": 12,
   "outputs": [
    {
     "data": {
      "text/plain": "<Figure size 432x288 with 1 Axes>",
      "image/png": "[encoded data removed]"
     },
     "metadata": {
      "needs_background": "light"
     },
     "output_type": "display_data"
    }
   ],
   "source": [
    "\n",
    "\n",
    "# Define the states and their energies\n",
    "states = ['A', 'B', 'C']\n",
    "energies = [1, 2, 3]  # Example energies for states A, B, and C\n",
    "kT = 1  # Boltzmann constant times temperature\n",
    "\n",
    "# Initialize the current state\n",
    "current_state = states[0]\n",
    "state_counts = {state: 0 for state in states}\n",
    "\n",
    "# Function to calculate Boltzmann factor\n",
    "def boltzmann_factor(energy_diff):\n",
    "    return np.exp(-energy_diff / kT)\n",
    "\n",
    "# Run the simulation\n",
    "for i in range(100000):\n",
    "    current_energy = energies[states.index(current_state)]\n",
    "    transition_probs = []\n",
    "    \n",
    "    for state, energy in zip(states, energies):\n",
    "        if state != current_state:\n",
    "            energy_diff = energy - current_energy\n",
    "            transition_probs.append(boltzmann_factor(energy_diff))\n",
    "        else:\n",
    "            transition_probs.append(0)\n",
    "    \n",
    "    transition_probs = np.array(transition_probs)\n",
    "    transition_probs /= transition_probs.sum()  # Normalize to get probabilities\n",
    "    next_state = np.random.choice(states, p=transition_probs)\n",
    "    current_state = next_state\n",
    "    state_counts[current_state] += 1\n",
    "\n",
    "# Plot the distribution of states\n",
    "plt.bar(state_counts.keys(), state_counts.values())\n",
    "plt.xlabel('States')\n",
    "plt.ylabel('Counts')\n",
    "plt.title('State Distribution (Boltzmann)')\n",
    "plt.show()"
   ],
   "metadata": {
    "collapsed": false,
    "ExecuteTime": {
     "end_time": "2025-01-15T10:59:51.739351600Z",
     "start_time": "2025-01-15T10:59:48.497989300Z"
    }
   },
   "id": "fbf1dd2d116d9d69"
  },
  {
   "cell_type": "code",
   "execution_count": 13,
   "outputs": [
    {
     "name": "stdout",
     "output_type": "stream",
     "text": [
      "Resultant Matrix C:\n",
      " [[0.21 0.79]\n",
      " [0.24 0.76]]\n"
     ]
    }
   ],
   "source": [
    "import numpy as np\n",
    "\n",
    "# Define matrices\n",
    "A = np.array([[0.1, 0.9], [0.4, 0.6]])\n",
    "B = np.array([[0.3, 0.7], [0.2, 0.8]])\n",
    "\n",
    "# Multiply matrices\n",
    "C = np.dot(A, B)  # or use A @ B\n",
    "print(\"Resultant Matrix C:\\n\", C)"
   ],
   "metadata": {
    "collapsed": false,
    "ExecuteTime": {
     "end_time": "2025-01-15T14:36:01.776546400Z",
     "start_time": "2025-01-15T14:36:01.746559900Z"
    }
   },
   "id": "f76d511b24a7c480"
  },
  {
   "cell_type": "code",
   "execution_count": null,
   "outputs": [],
   "source": [],
   "metadata": {
    "collapsed": false
   },
   "id": "ebaadf83c871ed19"
  }
 ],
 "metadata": {
  "kernelspec": {
   "display_name": "Python 3",
   "language": "python",
   "name": "python3"
  },
  "language_info": {
   "codemirror_mode": {
    "name": "ipython",
    "version": 2
   },
   "file_extension": ".py",
   "mimetype": "text/x-python",
   "name": "python",
   "nbconvert_exporter": "python",
   "pygments_lexer": "ipython2",
   "version": "2.7.6"
  }
 },
 "nbformat": 4,
 "nbformat_minor": 5
}

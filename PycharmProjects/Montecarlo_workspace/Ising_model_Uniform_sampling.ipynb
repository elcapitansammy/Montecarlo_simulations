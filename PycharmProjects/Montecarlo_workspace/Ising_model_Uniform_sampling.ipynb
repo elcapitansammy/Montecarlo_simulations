{
 "cells": [
  {
   "cell_type": "code",
   "execution_count": 1,
   "id": "initial_id",
   "metadata": {
    "collapsed": true,
    "ExecuteTime": {
     "end_time": "2025-01-11T17:28:13.572560600Z",
     "start_time": "2025-01-11T17:28:12.217588600Z"
    }
   },
   "outputs": [],
   "source": [
    "import random \n",
    "import numpy as np\n",
    "import matplotlib.pyplot as plt\n",
    "from mpmath import linspace\n"
   ]
  },
  {
   "cell_type": "markdown",
   "source": [
    "first line and then column"
   ],
   "metadata": {
    "collapsed": false
   },
   "id": "ecd3166bc288ba6f"
  },
  {
   "cell_type": "code",
   "execution_count": 2,
   "outputs": [],
   "source": [
    "#boudary conditions\n",
    "def bc_periodic(i, j,  n): \n",
    "    return i%n, j%n\n",
    "\n",
    "def bc_helical(i, j, n):\n",
    "    if j>=n:\n",
    "        new_i = (i-1)%n\n",
    "        new_j = j%n\n",
    "    elif j<0:\n",
    "        new_i = (i+1)%n\n",
    "        new_j = j%n\n",
    "    else: \n",
    "        new_i = i%n\n",
    "        new_j = j    \n",
    "    return new_i, new_j"
   ],
   "metadata": {
    "collapsed": false,
    "ExecuteTime": {
     "end_time": "2025-01-11T17:28:13.592558400Z",
     "start_time": "2025-01-11T17:28:13.572560600Z"
    }
   },
   "id": "3f2d208c3ed36181"
  },
  {
   "cell_type": "code",
   "execution_count": 3,
   "outputs": [
    {
     "name": "stdout",
     "output_type": "stream",
     "text": [
      "Test case 1 passed\n",
      "Test case 2 passed\n",
      "Test case 3 passed\n",
      "Test case 4 passed\n",
      "Test case 5 passed\n",
      "Test case 6 passed\n",
      "Test case 7 passed\n"
     ]
    }
   ],
   "source": [
    "def test_bc_helical():#this is only for testing the function on a matrix of 3x3\n",
    "    test_cases = [\n",
    "        (1, 1, (1, 1)),  # Test case 1\n",
    "        (4, 4, (0, 1)),# Test case 2\n",
    "        (3,2, (0, 2)), # Test case 3\n",
    "        (2,4, (1,1)),\n",
    "        (3,2, (0,2)),\n",
    "        (-1,0, (2,0)),\n",
    "        (2,-1, (0,2)),\n",
    "        \n",
    "    ]\n",
    "    \n",
    "    for i, (input_i, input_j, expected) in enumerate(test_cases):\n",
    "        result = bc_helical(input_i, input_j, n=3)\n",
    "        assert result == expected, f\"Test case {i+1} failed: expected {expected}, got {result}\"\n",
    "        print(f\"Test case {i+1} passed\")\n",
    "\n",
    "# Run the tests\n",
    "test_bc_helical()"
   ],
   "metadata": {
    "collapsed": false,
    "ExecuteTime": {
     "end_time": "2025-01-11T17:28:13.662554200Z",
     "start_time": "2025-01-11T17:28:13.582555900Z"
    }
   },
   "id": "639c1be6420442d3"
  },
  {
   "cell_type": "markdown",
   "source": [],
   "metadata": {
    "collapsed": false
   },
   "id": "4e576d43c539da95"
  },
  {
   "cell_type": "markdown",
   "source": [
    "Now Calculate the energy of the system"
   ],
   "metadata": {
    "collapsed": false
   },
   "id": "8fb37a349eb7074b"
  },
  {
   "cell_type": "code",
   "execution_count": 4,
   "outputs": [],
   "source": [
    "# Step 1: Generate a random configuration of N^2 spins\n",
    "\n",
    "def generate_random_configuration(n):\n",
    "    return [[random.choice([-1, 1]) for _ in range(n)] for _ in range(n)]\n",
    "\n",
    "# Step 2: Calculate the energy of the configuration\n",
    "def calculate_energy(matrix, n):\n",
    "    E = 0\n",
    "    J = 1\n",
    "    for i in range(n):\n",
    "        for j in range(n):\n",
    "            ni1, nj1 = bc_periodic(i + 1, j, n)\n",
    "            #ni2, nj2 = bc_helical(i - 1, j ,n)\n",
    "            ni3, nj3 = bc_periodic(i, j + 1, n)\n",
    "            #ni4, nj4 = bc_helical(i, j - 1, n)\n",
    "            energy_i = -J * matrix[i][j] * (\n",
    "                matrix[ni1][nj1] +\n",
    "                #matrix[ni2][nj2] +\n",
    "                matrix[ni3][nj3]\n",
    "                #matrix[ni4][nj4]\n",
    "            )\n",
    "            \n",
    "            E += energy_i\n",
    "    return E\n"
   ],
   "metadata": {
    "collapsed": false,
    "ExecuteTime": {
     "end_time": "2025-01-11T17:28:14.257411700Z",
     "start_time": "2025-01-11T17:28:14.237397600Z"
    }
   },
   "id": "f603813dae99a7af"
  },
  {
   "cell_type": "markdown",
   "source": [],
   "metadata": {
    "collapsed": false
   },
   "id": "577f19a97cbc0270"
  },
  {
   "cell_type": "code",
   "execution_count": 11,
   "outputs": [
    {
     "name": "stdout",
     "output_type": "stream",
     "text": [
      "100000\n"
     ]
    },
    {
     "data": {
      "text/plain": "<Figure size 432x288 with 1 Axes>",
      "image/png": "[encoded data removed]"
     },
     "metadata": {
      "needs_background": "light"
     },
     "output_type": "display_data"
    }
   ],
   "source": [
    "n= 16\n",
    "k = 100000\n",
    "matrix = generate_random_configuration(n)\n",
    "configuration = generate_random_configuration(n)\n",
    "E = calculate_energy(configuration, n)\n",
    "energies = []\n",
    "E0 = -2 * (n * n)\n",
    "for _ in range(k):\n",
    "    configuration = generate_random_configuration(n)\n",
    "    E = calculate_energy(configuration, n)\n",
    "    e = E / (2 * n * n)\n",
    "    energies.append(e)\n",
    "    \n",
    "print(len(energies))   \n",
    "plt.hist(energies, bins=100, edgecolor='black')\n",
    "plt.xlabel('Energy per bond')\n",
    "plt.ylabel('Frequency')\n",
    "plt.title('Histogram of Energies')\n",
    "plt.show()"
   ],
   "metadata": {
    "collapsed": false,
    "ExecuteTime": {
     "end_time": "2025-01-11T17:41:26.719495700Z",
     "start_time": "2025-01-11T17:41:02.099275500Z"
    }
   },
   "id": "aa2f7f34ccd89ac8"
  },
  {
   "cell_type": "markdown",
   "source": [
    "Boltzmann sampling with hit-and-miss method"
   ],
   "metadata": {
    "collapsed": false
   },
   "id": "36687351e070310e"
  },
  {
   "cell_type": "code",
   "execution_count": 9,
   "outputs": [
    {
     "name": "stdout",
     "output_type": "stream",
     "text": [
      "percentage of hits:  0.0\n"
     ]
    },
    {
     "data": {
      "text/plain": "<Figure size 432x288 with 1 Axes>",
      "image/png": "[encoded data removed]"
     },
     "metadata": {
      "needs_background": "light"
     },
     "output_type": "display_data"
    }
   ],
   "source": [
    "T = 10\n",
    "beta = 1/T\n",
    "n = 16\n",
    "k = 100000\n",
    "\n",
    "energies = []\n",
    "for _ in range(k):\n",
    "    configuration = generate_random_configuration(n)\n",
    "    E = calculate_energy(configuration, n)\n",
    "    E0 = -2 * (n * n)\n",
    "    random_number = random.uniform(0, 1)\n",
    "    if random_number <= np.exp(-beta * (E-E0)):\n",
    "        e = E / (2 * n * n)\n",
    "        energies.append(e)\n",
    "\n",
    "print(\"percentage of hits: \", len(energies)/k)   \n",
    "plt.hist(energies, bins=100, edgecolor='black')\n",
    "plt.xlabel('Energy per bond')\n",
    "plt.ylabel('Frequency')\n",
    "plt.title('Histogram of Energies')\n",
    "plt.show()\n",
    "\n"
   ],
   "metadata": {
    "collapsed": false,
    "ExecuteTime": {
     "end_time": "2025-01-11T17:38:07.830114400Z",
     "start_time": "2025-01-11T17:37:42.655038Z"
    }
   },
   "id": "c990e7d2e2926997"
  },
  {
   "cell_type": "markdown",
   "source": [
    "Reweighting technique "
   ],
   "metadata": {
    "collapsed": false
   },
   "id": "9b7d060e9189f42c"
  },
  {
   "cell_type": "code",
   "execution_count": 12,
   "outputs": [
    {
     "data": {
      "text/plain": "<Figure size 432x288 with 1 Axes>",
      "image/png": "[encoded data removed]"
     },
     "metadata": {
      "needs_background": "light"
     },
     "output_type": "display_data"
    },
    {
     "name": "stdout",
     "output_type": "stream",
     "text": [
      "mean of the reweighted histogram:  0.00013160125054622338\n",
      "peak of the reweighted histogram:  0.20312087406534166\n"
     ]
    },
    {
     "data": {
      "text/plain": "<Figure size 432x288 with 1 Axes>",
      "image/png": "[encoded data removed]"
     },
     "metadata": {
      "needs_background": "light"
     },
     "output_type": "display_data"
    },
    {
     "name": "stdout",
     "output_type": "stream",
     "text": [
      "mean of the reweighted histogram:  0.0001298406301820393\n",
      "peak of the reweighted histogram:  0.20308374442453622\n"
     ]
    },
    {
     "data": {
      "text/plain": "<Figure size 432x288 with 1 Axes>",
      "image/png": "[encoded data removed]"
     },
     "metadata": {
      "needs_background": "light"
     },
     "output_type": "display_data"
    },
    {
     "name": "stdout",
     "output_type": "stream",
     "text": [
      "mean of the reweighted histogram:  -6.383260364588905e-05\n",
      "peak of the reweighted histogram:  0.1990406455938926\n"
     ]
    },
    {
     "data": {
      "text/plain": "<Figure size 432x288 with 1 Axes>",
      "image/png": "[encoded data removed]"
     },
     "metadata": {
      "needs_background": "light"
     },
     "output_type": "display_data"
    },
    {
     "name": "stdout",
     "output_type": "stream",
     "text": [
      "mean of the reweighted histogram:  -0.0008466447816286608\n",
      "peak of the reweighted histogram:  0.18350814493640824\n"
     ]
    }
   ],
   "source": [
    "#from the histogram generated by the uniform sampling we can generate for a given temperature T PT(E)= exp(-E/T)PT(E) plot for T=10000 and T=2 and T=10\n",
    "\n",
    "# Assuming `energies` is the array of total energies generated by the uniform sampling\n",
    "energies = np.array(energies)\n",
    "\n",
    "# Define the temperatures\n",
    "temperatures = [10000,1000, 10, 2]\n",
    "\n",
    "# Loop through each temperature and plot the reweighted histogram\n",
    "for T in temperatures:\n",
    "    weights = np.exp(-energies / T) * energies\n",
    "    plt.hist(weights, bins=100, edgecolor='black')\n",
    "    plt.xlabel('Energy per bond')\n",
    "    plt.ylabel('Reweighted Frequency')\n",
    "    plt.title(f'Reweighted Histogram of Energies at T={T}')\n",
    "    plt.show()\n",
    "    #print the mean of the reweighted histogram and the value at the peak of the function\n",
    "    print(\"mean of the reweighted histogram: \", np.mean(weights))\n",
    "    print(\"peak of the reweighted histogram: \", np.max(weights))"
   ],
   "metadata": {
    "collapsed": false,
    "ExecuteTime": {
     "end_time": "2025-01-11T17:41:33.017005400Z",
     "start_time": "2025-01-11T17:41:32.052434600Z"
    }
   },
   "id": "9418f33c39c429d"
  },
  {
   "cell_type": "code",
   "execution_count": null,
   "outputs": [],
   "source": [],
   "metadata": {
    "collapsed": false
   },
   "id": "f8a4ee14c2d1f593"
  }
 ],
 "metadata": {
  "kernelspec": {
   "display_name": "Python 3",
   "language": "python",
   "name": "python3"
  },
  "language_info": {
   "codemirror_mode": {
    "name": "ipython",
    "version": 2
   },
   "file_extension": ".py",
   "mimetype": "text/x-python",
   "name": "python",
   "nbconvert_exporter": "python",
   "pygments_lexer": "ipython2",
   "version": "2.7.6"
  }
 },
 "nbformat": 4,
 "nbformat_minor": 5
}

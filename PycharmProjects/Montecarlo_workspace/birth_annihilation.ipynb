{
 "cells": [
  {
   "cell_type": "code",
   "execution_count": 22,
   "id": "initial_id",
   "metadata": {
    "collapsed": true,
    "ExecuteTime": {
     "end_time": "2025-01-13T10:38:40.579508200Z",
     "start_time": "2025-01-13T10:38:40.558521Z"
    }
   },
   "outputs": [],
   "source": [
    "import numpy as np\n",
    "import matplotlib.pyplot as plt\n",
    "import random\n",
    "import math\n",
    "import time"
   ]
  },
  {
   "cell_type": "code",
   "execution_count": 47,
   "outputs": [],
   "source": [
    "# Birth-Annihilation Process\n",
    "# Birth rate: mu\n",
    "# Annihilation rate: lambda\n",
    "\n",
    "lam = 1\n",
    "mu = 0.2\n",
    "a0 = lam + mu "
   ],
   "metadata": {
    "collapsed": false,
    "ExecuteTime": {
     "end_time": "2025-01-13T11:05:45.059346500Z",
     "start_time": "2025-01-13T11:05:45.044351500Z"
    }
   },
   "id": "ffd6ffa270f77d73"
  },
  {
   "cell_type": "code",
   "execution_count": 64,
   "outputs": [
    {
     "name": "stdout",
     "output_type": "stream",
     "text": [
      "Time taken for extinction:  11.144425107400947\n"
     ]
    },
    {
     "data": {
      "text/plain": "<Figure size 432x288 with 1 Axes>",
      "image/png": "[encoded data removed]"
     },
     "metadata": {
      "needs_background": "light"
     },
     "output_type": "display_data"
    }
   ],
   "source": [
    "N0 = 10000\n",
    "# Initial number of particles\n",
    "def gillespie_birth_death(lambda_rate, mu_rate, N0, max_time):\n",
    "    # Initialize variables\n",
    "    t = 0\n",
    "    N = N0\n",
    "    times = [t]\n",
    "    populations = [N]\n",
    "    \n",
    "    while t < max_time and N > 0:\n",
    "        # Calculate propensities\n",
    "        a_birth = mu_rate * N\n",
    "        a_death = lambda_rate * N\n",
    "        a_total = a_birth + a_death\n",
    "        \n",
    "        # Draw random numbers\n",
    "        r1 = np.random.uniform(0, 1)\n",
    "        r2 = np.random.uniform(0, 1)\n",
    "        \n",
    "        # Time until next event\n",
    "        delta_t = -np.log(r1) / a_total\n",
    "        t += delta_t\n",
    "        \n",
    "        # Determine which event occurs\n",
    "        if r2 < a_birth / a_total:\n",
    "            N += 1  # Birth event\n",
    "        else:\n",
    "            N -= 1  # Death event\n",
    "        \n",
    "        # Store results\n",
    "        times.append(t)\n",
    "        populations.append(N)\n",
    "    \n",
    "    return times[-1], times, populations\n",
    "    \n",
    "\n",
    "#show the population distribution per step\n",
    "time_taken,time_points, population_distribution = gillespie_birth_death(lam, mu,N0, 100)\n",
    "plt.plot(time_points, population_distribution)\n",
    "print(\"Time taken for extinction: \", time_taken)\n"
   ],
   "metadata": {
    "collapsed": false,
    "ExecuteTime": {
     "end_time": "2025-01-13T11:15:55.613633100Z",
     "start_time": "2025-01-13T11:15:55.443637100Z"
    }
   },
   "id": "c32a797c9a58150b"
  },
  {
   "cell_type": "code",
   "execution_count": 65,
   "outputs": [
    {
     "name": "stdout",
     "output_type": "stream",
     "text": [
      "Average time taken for extinction:  6.212696142185542\n"
     ]
    },
    {
     "data": {
      "text/plain": "(array([  2.,   3.,   6.,   4.,  19.,  20.,  41.,  59.,  78., 106., 142.,\n        162., 240., 250., 316., 305., 346., 359., 372., 395., 380., 427.,\n        382., 374., 380., 348., 349., 337., 295., 281., 268., 225., 218.,\n        200., 224., 204., 192., 169., 133., 136., 120., 116.,  92.,  93.,\n         79.,  65.,  76.,  50.,  46.,  57.,  46.,  38.,  40.,  36.,  30.,\n         22.,  15.,  19.,  25.,  28.,  10.,  11.,  16.,   8.,  21.,  10.,\n         10.,   4.,   3.,   7.,   2.,   4.,   4.,   6.,   4.,   5.,   3.,\n          3.,   2.,   7.,   1.,   2.,   7.,   0.,   0.,   3.,   0.,   1.,\n          1.,   1.,   0.,   0.,   0.,   0.,   2.,   0.,   0.,   0.,   0.,\n          2.]),\n array([ 2.64383996,  2.77786103,  2.91188211,  3.04590319,  3.17992426,\n         3.31394534,  3.44796642,  3.5819875 ,  3.71600857,  3.85002965,\n         3.98405073,  4.1180718 ,  4.25209288,  4.38611396,  4.52013503,\n         4.65415611,  4.78817719,  4.92219826,  5.05621934,  5.19024042,\n         5.3242615 ,  5.45828257,  5.59230365,  5.72632473,  5.8603458 ,\n         5.99436688,  6.12838796,  6.26240903,  6.39643011,  6.53045119,\n         6.66447226,  6.79849334,  6.93251442,  7.06653549,  7.20055657,\n         7.33457765,  7.46859873,  7.6026198 ,  7.73664088,  7.87066196,\n         8.00468303,  8.13870411,  8.27272519,  8.40674626,  8.54076734,\n         8.67478842,  8.80880949,  8.94283057,  9.07685165,  9.21087273,\n         9.3448938 ,  9.47891488,  9.61293596,  9.74695703,  9.88097811,\n        10.01499919, 10.14902026, 10.28304134, 10.41706242, 10.55108349,\n        10.68510457, 10.81912565, 10.95314672, 11.0871678 , 11.22118888,\n        11.35520996, 11.48923103, 11.62325211, 11.75727319, 11.89129426,\n        12.02531534, 12.15933642, 12.29335749, 12.42737857, 12.56139965,\n        12.69542072, 12.8294418 , 12.96346288, 13.09748396, 13.23150503,\n        13.36552611, 13.49954719, 13.63356826, 13.76758934, 13.90161042,\n        14.03563149, 14.16965257, 14.30367365, 14.43769472, 14.5717158 ,\n        14.70573688, 14.83975795, 14.97377903, 15.10780011, 15.24182119,\n        15.37584226, 15.50986334, 15.64388442, 15.77790549, 15.91192657,\n        16.04594765]),\n <BarContainer object of 100 artists>)"
     },
     "execution_count": 65,
     "metadata": {},
     "output_type": "execute_result"
    },
    {
     "data": {
      "text/plain": "<Figure size 432x288 with 1 Axes>",
      "image/png": "[encoded data removed]"
     },
     "metadata": {
      "needs_background": "light"
     },
     "output_type": "display_data"
    }
   ],
   "source": [
    "total_time = 0\n",
    "times = []\n",
    "N0 = 100\n",
    "for i in range(10000):\n",
    "    time_taken,time_points, population_distribution  = gillespie_birth_death(lam, mu,N0, 100)\n",
    "    total_time += time_taken\n",
    "    times.append(time_taken)\n",
    "\n",
    "print(\"Average time taken for extinction: \", total_time/10000)\n",
    "plt.hist(times, bins=100)"
   ],
   "metadata": {
    "collapsed": false,
    "ExecuteTime": {
     "end_time": "2025-01-13T11:17:03.149620Z",
     "start_time": "2025-01-13T11:16:54.575920900Z"
    }
   },
   "id": "ad127d30eaf648c1"
  },
  {
   "cell_type": "code",
   "execution_count": 22,
   "outputs": [
    {
     "name": "stdout",
     "output_type": "stream",
     "text": [
      "Theoretical time to extinction:  -1.25\n"
     ]
    }
   ],
   "source": [],
   "metadata": {
    "collapsed": false,
    "ExecuteTime": {
     "end_time": "2025-01-11T20:57:43.107458700Z",
     "start_time": "2025-01-11T20:57:43.062733600Z"
    }
   },
   "id": "ce69c3e09dd8ced4"
  },
  {
   "cell_type": "code",
   "execution_count": null,
   "outputs": [],
   "source": [],
   "metadata": {
    "collapsed": false
   },
   "id": "6b30f5e3d57fe9da"
  }
 ],
 "metadata": {
  "kernelspec": {
   "display_name": "Python 3",
   "language": "python",
   "name": "python3"
  },
  "language_info": {
   "codemirror_mode": {
    "name": "ipython",
    "version": 2
   },
   "file_extension": ".py",
   "mimetype": "text/x-python",
   "name": "python",
   "nbconvert_exporter": "python",
   "pygments_lexer": "ipython2",
   "version": "2.7.6"
  }
 },
 "nbformat": 4,
 "nbformat_minor": 5
}
